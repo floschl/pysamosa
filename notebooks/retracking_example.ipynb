{
 "cells": [
  {
   "cell_type": "markdown",
   "metadata": {},
   "source": [
    "![]() <img src=\"./resources/logo.jpg\"  width=\"500\">\n"
   ]
  },
  {
   "cell_type": "markdown",
   "metadata": {},
   "source": [
    "# PySAMOSA"
   ]
  },
  {
   "cell_type": "markdown",
   "metadata": {},
   "source": [
    "This jupyter notebook demonstrates exemplarily how to retrack a Level-1B (L1b) data file from the Sentinel-3 and Sentinel-6 MF missions."
   ]
  },
  {
   "cell_type": "markdown",
   "metadata": {},
   "source": [
    "## Getting-started"
   ]
  },
  {
   "cell_type": "markdown",
   "metadata": {},
   "source": [
    "### Imports"
   ]
  },
  {
   "cell_type": "code",
   "execution_count": 1,
   "metadata": {
    "ExecuteTime": {
     "end_time": "2023-06-10T12:16:45.374533238Z",
     "start_time": "2023-06-10T12:16:45.372258072Z"
    }
   },
   "outputs": [],
   "source": [
    "%load_ext autoreload\n",
    "%autoreload 1"
   ]
  },
  {
   "cell_type": "code",
   "execution_count": 2,
   "metadata": {
    "ExecuteTime": {
     "end_time": "2023-06-10T12:17:02.022448293Z",
     "start_time": "2023-06-10T12:17:01.975447441Z"
    }
   },
   "outputs": [
    {
     "ename": "ModuleNotFoundError",
     "evalue": "No module named 'tests'",
     "output_type": "error",
     "traceback": [
      "\u001B[0;31m---------------------------------------------------------------------------\u001B[0m",
      "\u001B[0;31mModuleNotFoundError\u001B[0m                       Traceback (most recent call last)",
      "Cell \u001B[0;32mIn[2], line 13\u001B[0m\n\u001B[1;32m     11\u001B[0m \u001B[38;5;28;01mfrom\u001B[39;00m \u001B[38;5;21;01mpysamosa\u001B[39;00m\u001B[38;5;21;01m.\u001B[39;00m\u001B[38;5;21;01mretracker_processor\u001B[39;00m \u001B[38;5;28;01mimport\u001B[39;00m RetrackerProcessor\n\u001B[1;32m     12\u001B[0m \u001B[38;5;28;01mfrom\u001B[39;00m \u001B[38;5;21;01mpysamosa\u001B[39;00m\u001B[38;5;21;01m.\u001B[39;00m\u001B[38;5;21;01msettings_manager\u001B[39;00m \u001B[38;5;28;01mimport\u001B[39;00m get_default_base_settings, SettingsPreset\n\u001B[0;32m---> 13\u001B[0m \u001B[38;5;28;01mfrom\u001B[39;00m \u001B[38;5;21;01mpysamosa\u001B[39;00m\u001B[38;5;21;01m.\u001B[39;00m\u001B[38;5;21;01mutils_plot\u001B[39;00m \u001B[38;5;28;01mimport\u001B[39;00m plot_l2_results_vs_ref\n\u001B[1;32m     15\u001B[0m get_ipython()\u001B[38;5;241m.\u001B[39mrun_line_magic(\u001B[38;5;124m'\u001B[39m\u001B[38;5;124maimport\u001B[39m\u001B[38;5;124m'\u001B[39m, \u001B[38;5;124m'\u001B[39m\u001B[38;5;124mpysamosa\u001B[39m\u001B[38;5;124m'\u001B[39m)\n",
      "File \u001B[0;32m/lfs/DGFI24/fastdata/schlembach/repos/pysamosa/pysamosa/utils_plot.py:10\u001B[0m\n\u001B[1;32m      8\u001B[0m \u001B[38;5;28;01mfrom\u001B[39;00m \u001B[38;5;21;01mmatplotlib\u001B[39;00m\u001B[38;5;21;01m.\u001B[39;00m\u001B[38;5;21;01mbackends\u001B[39;00m\u001B[38;5;21;01m.\u001B[39;00m\u001B[38;5;21;01mbackend_pgf\u001B[39;00m \u001B[38;5;28;01mimport\u001B[39;00m FigureCanvasPgf\n\u001B[1;32m      9\u001B[0m \u001B[38;5;28;01mfrom\u001B[39;00m \u001B[38;5;21;01mmpl_toolkits\u001B[39;00m\u001B[38;5;21;01m.\u001B[39;00m\u001B[38;5;21;01maxes_grid1\u001B[39;00m \u001B[38;5;28;01mimport\u001B[39;00m make_axes_locatable\n\u001B[0;32m---> 10\u001B[0m \u001B[38;5;28;01mfrom\u001B[39;00m \u001B[38;5;21;01mtests\u001B[39;00m\u001B[38;5;21;01m.\u001B[39;00m\u001B[38;5;21;01mhelpers\u001B[39;00m \u001B[38;5;28;01mimport\u001B[39;00m consecutive_regions_from_ind_list\n\u001B[1;32m     12\u001B[0m \u001B[38;5;28;01mfrom\u001B[39;00m \u001B[38;5;21;01mscipy\u001B[39;00m \u001B[38;5;28;01mimport\u001B[39;00m signal\n\u001B[1;32m     14\u001B[0m default_width_in \u001B[38;5;241m=\u001B[39m \u001B[38;5;241m5.79\u001B[39m  \u001B[38;5;66;03m# in inches\u001B[39;00m\n",
      "\u001B[0;31mModuleNotFoundError\u001B[0m: No module named 'tests'"
     ]
    }
   ],
   "source": [
    "import logging\n",
    "from pathlib import Path\n",
    "\n",
    "import numpy as np\n",
    "import matplotlib as mpl\n",
    "\n",
    "import pysamosa as pysam\n",
    "\n",
    "from pysamosa.common_types import RetrackerBaseType, L1bSourceType\n",
    "from pysamosa.data_access import data_vars_s3, data_vars_s6\n",
    "from pysamosa.retracker_processor import RetrackerProcessor\n",
    "from pysamosa.settings_manager import get_default_base_settings, SettingsPreset\n",
    "from pysamosa.utils_plot import plot_l2_results_vs_ref\n",
    "\n",
    "%aimport pysamosa"
   ]
  },
  {
   "cell_type": "markdown",
   "metadata": {},
   "source": [
    "### Choosing the L1b files to be retracked"
   ]
  },
  {
   "cell_type": "markdown",
   "metadata": {},
   "source": [
    "Select the files to be processed, here we choose only one:"
   ]
  },
  {
   "cell_type": "code",
   "execution_count": 10,
   "metadata": {},
   "outputs": [],
   "source": [
    "l1b_files = []\n",
    "\n",
    "dest_path = Path.cwd().parent / '.testrun' / 'jupyter_getting_started'\n",
    "src_data_path = Path.cwd() / '.data'\n",
    "\n",
    "# S3\n",
    "# l1b_src_path = src_data_path / 's3' / 'l1b'\n",
    "# l1b_file_path = l1b_src_path / 'S3A_SR_1_SRA____20180414T050108_20180414T055136_20190706T231129_3028_030_090______MR1_R_NT_004.nc'\n",
    "# l2_ref_file = l1b_file_path.parent.parent / 'l2' / 'S3A_SR_1_SRA____20180414T050108_20180414T055136_20190706T231129_3028_030_090______MR1_R_NT_004.nc'\n",
    "# bbox = np.array([-13.32, -13.14, 0, 360])  #[lat_min, lat_max, lon_min, lon_max], set to None if full L1b file shall be retracked\n",
    "\n",
    "# S6\n",
    "l1b_src_path = src_data_path / 's6' / 'l1b'\n",
    "l1b_file_path = l1b_src_path / 'S6A_P4_1B_HR______20211120T051224_20211120T060836_20220430T212619_3372_038_018_009_EUM__REP_NT_F06.nc'\n",
    "l2_ref_file = l1b_file_path.parent.parent / 'l2' / 'S6A_P4_2__HR_STD__NT_038_018_20211120T051224_20211120T060836_F06.nc'\n",
    "bbox = np.array([-29.05, -29.00, 0, 360])  #[lat_min, lat_max, lon_min, lon_max], set to None if full L1b file shall be retracked\n",
    "\n",
    "l1b_files.append(l1b_file_path)\n",
    "\n",
    "is_s6 = 's6' in l1b_file_path.name.lower()"
   ]
  },
  {
   "cell_type": "markdown",
   "metadata": {},
   "source": [
    "### Choosing the Retracker\n",
    "\n",
    "Set the retracking settings used for the processing.\n",
    "\n",
    "One can choose between a different `RetrackerBaseType` + `SettingsPreset` combination to select different retracker presets. The respective individual settings are then returned from the `get_default_base_settings` function. The `L1bSourceType` needs to be selected according to the type of L1b data, e.g. `L1bSourceType.EUM_S6_F06` for Sentinel-6 MF baseline F06.\n",
    "\n",
    "Here are some sample retracker configuration:\n",
    "- Standard SAMOSA-based (SAMOSA2) retracker as used in [2]: RetrackerBaseType.SAM + SettingsPreset.NONE\n",
    "- SAMOSA+ [3]: RetrackerBaseType.SAMPLUS + SettingsPreset.NONE\n",
    "- CORALv2 (UF-SAR) [5]: RetrackerBaseType.SAM + SettingsPreset.CORALv2"
   ]
  },
  {
   "cell_type": "code",
   "execution_count": 12,
   "metadata": {},
   "outputs": [
    {
     "ename": "AttributeError",
     "evalue": "module 'pysamosa' has no attribute 'L1bSourceType'",
     "output_type": "error",
     "traceback": [
      "\u001B[0;31m---------------------------------------------------------------------------\u001B[0m",
      "\u001B[0;31mAttributeError\u001B[0m                            Traceback (most recent call last)",
      "Cell \u001B[0;32mIn[12], line 1\u001B[0m\n\u001B[0;32m----> 1\u001B[0m l1b_src_type \u001B[38;5;241m=\u001B[39m \u001B[43mpysam\u001B[49m\u001B[38;5;241;43m.\u001B[39;49m\u001B[43mL1bSourceType\u001B[49m\u001B[38;5;241m.\u001B[39mEUM_S6_F06 \u001B[38;5;28;01mif\u001B[39;00m is_s6 \u001B[38;5;28;01melse\u001B[39;00m pysam\u001B[38;5;241m.\u001B[39mL1bSourceType\u001B[38;5;241m.\u001B[39mEUM_S3\n\u001B[1;32m      2\u001B[0m data_vars \u001B[38;5;241m=\u001B[39m data_vars_s6 \u001B[38;5;28;01mif\u001B[39;00m is_s6 \u001B[38;5;28;01melse\u001B[39;00m data_vars_s3\n\u001B[1;32m      4\u001B[0m \u001B[38;5;66;03m# rbt = RetrackerBaseType.SAMPLUS\u001B[39;00m\n",
      "\u001B[0;31mAttributeError\u001B[0m: module 'pysamosa' has no attribute 'L1bSourceType'"
     ]
    }
   ],
   "source": [
    "l1b_src_type = pysam.L1bSourceType.EUM_S6_F06 if is_s6 else pysam.L1bSourceType.EUM_S3\n",
    "data_vars = data_vars_s6 if is_s6 else data_vars_s3\n",
    "\n",
    "# rbt = RetrackerBaseType.SAMPLUS\n",
    "rbt = RetrackerBaseType.SAM\n",
    "pres = SettingsPreset.CORALv2\n",
    "# pres = SettingsPreset.NONE\n",
    "rp_sets, retrack_sets, fitting_sets, wf_sets, sensor_sets = get_default_base_settings(retracker_basetype=rbt, settings_preset=pres, l1b_src_type=l1b_src_type)\n",
    "\n",
    "rp_sets.nc_dest_dir = dest_path\n",
    "rp_sets.n_offset = 0\n",
    "rp_sets.n_inds = 0  #0 means all\n",
    "rp_sets.n_procs = 6\n",
    "rp_sets.skip_if_exists = False"
   ]
  },
  {
   "cell_type": "markdown",
   "metadata": {},
   "source": [
    "Set additional attributes that are written to top-level of target netCDF file to be written out"
   ]
  },
  {
   "cell_type": "code",
   "execution_count": 78,
   "metadata": {},
   "outputs": [],
   "source": [
    "additional_nc_attrs = {\n",
    "    'L1B source type': l1b_src_type.value.upper(),\n",
    "    'Retracker basetype': rbt.value.upper(),\n",
    "    'Retracker preset': pres.value.upper(),\n",
    "}"
   ]
  },
  {
   "cell_type": "markdown",
   "metadata": {},
   "source": [
    "Set up `RetrackerProcessor` object"
   ]
  },
  {
   "cell_type": "code",
   "execution_count": 79,
   "metadata": {},
   "outputs": [],
   "source": [
    "rp = RetrackerProcessor(l1b_source=l1b_files, l1b_data_vars=data_vars['l1b'],\n",
    "                        rp_sets=rp_sets,\n",
    "                        retrack_sets=retrack_sets,\n",
    "                        fitting_sets=fitting_sets,\n",
    "                        wf_sets=wf_sets,\n",
    "                        sensor_sets=sensor_sets,\n",
    "                        nc_attrs_kw=additional_nc_attrs,\n",
    "                        bbox=[bbox],\n",
    "                        log_level=logging.DEBUG,  #comment in to show debug messages\n",
    "                        )"
   ]
  },
  {
   "cell_type": "markdown",
   "metadata": {},
   "source": [
    "Start processing"
   ]
  },
  {
   "cell_type": "code",
   "execution_count": 80,
   "metadata": {},
   "outputs": [],
   "source": [
    "rp.process()"
   ]
  },
  {
   "cell_type": "markdown",
   "metadata": {},
   "source": [
    "The output netCDF file is written to directory:"
   ]
  },
  {
   "cell_type": "code",
   "execution_count": 81,
   "metadata": {},
   "outputs": [],
   "source": [
    "rp_sets.nc_dest_dir"
   ]
  },
  {
   "cell_type": "markdown",
   "metadata": {},
   "source": [
    "Show xarray dataset"
   ]
  },
  {
   "cell_type": "code",
   "execution_count": 82,
   "metadata": {},
   "outputs": [],
   "source": [
    "rp.output_l2"
   ]
  },
  {
   "cell_type": "markdown",
   "metadata": {},
   "source": [
    "Read L2 reference file"
   ]
  },
  {
   "cell_type": "code",
   "execution_count": 83,
   "metadata": {},
   "outputs": [],
   "source": [
    "from pysamosa.data_access import _read_dataset_vars_from_ds\n",
    "\n",
    "nc_grp = 'data_20/ku' if is_s6 else ''\n",
    "l2_ref = _read_dataset_vars_from_ds(nc_filename=l2_ref_file, data_var_names=data_vars['l2'], n_offset=int(rp.output_l2.record_ind[0].values),\n",
    "                                      n_inds=len(rp.output_l2.record_ind), group=nc_grp)"
   ]
  },
  {
   "cell_type": "code",
   "execution_count": 84,
   "metadata": {},
   "outputs": [],
   "source": [
    "# add center-of-gravity (COG) correction to S3 L2 range data\n",
    "cog_corr = 0.55590 if not is_s6 else 0.0\n",
    "\n",
    "fig,rmse_swh,rmse_ssh = plot_l2_results_vs_ref(rp.output_l2,\n",
    "                                               l2_ref=l2_ref,\n",
    "                                               fig_title=l1b_file_path.stem,\n",
    "                                               cog_corr=cog_corr,\n",
    "                                               )"
   ]
  },
  {
   "cell_type": "code",
   "execution_count": 85,
   "metadata": {},
   "outputs": [],
   "source": [
    "print(f'rmse_swh: {rmse_swh:.4f}, rmse_ssh: {rmse_ssh:.4f}')"
   ]
  },
  {
   "cell_type": "code",
   "execution_count": 86,
   "metadata": {},
   "outputs": [],
   "source": [
    "fig.savefig(dest_path / f'{\"S6\" if is_s6 else \"S3\"}_comparison_w_baseline.jpg')"
   ]
  },
  {
   "cell_type": "markdown",
   "metadata": {},
   "source": [
    "## References\n",
    "\n",
    "[1] SAMOSA Detailed Processing Model: Christine Gommenginger, Cristina Martin-Puig, Meric Srokosz, Marco Caparrini, Salvatore Dinardo, Bruno Lucas, Marco Restano, Américo, Ambrózio and Jérôme Benveniste, Detailed Processing Model of the Sentinel-3 SRAL SAR altimeter ocean waveform retracker, Version 2.5.2, 31 October 2017, Under ESA-ESRIN Contract No. 20698/07/I-LG (SAMOSA), Restricted access as defined in the Contract,  Jérôme Benveniste (Jerome.Benvensite@esa.int) pers. comm.\n",
    "\n",
    "[2] EUMETSAT. Sentinel-6/Jason-CS ALT Level 2 Product Generation Specification (L2 ALT PGS), Version V4D; 2022.\n",
    "https://www.eumetsat.int/media/48266.\n",
    "\n",
    "[3] Dinardo, Salvatore. ‘Techniques and Applications for Satellite SAR Altimetry over Water, Land and Ice’.\n",
    "Dissertation, Technische Universität, 2020. https://tuprints.ulb.tu-darmstadt.de/11343/.\n",
    "\n",
    "[4] Schlembach, F.; Passaro, M.; Dettmering, D.; Bidlot, J.; Seitz, F. Interference-Sensitive Coastal SAR Altimetry\n",
    "Retracking Strategy for Measuring Significant Wave Height. Remote Sensing of Environment 2022, 274, 112968. https://doi.org/10.1016/j.rse.2022.112968.\n",
    "\n",
    "[5] Schlembach, F.; Ehlers, F.; Kleinherenbrink, M.; Passaro, M.; Dettmering, D.; Seitz, F.; Slobbe, C. Benefits of Fully Focused SAR Altimetry to Coastal Wave Height Estimates: A Case Study in the North Sea. Remote Sensing of Environment 2023, 289, 113517. https://doi.org/10.1016/j.rse.2023.113517.\n",
    "\n"
   ]
  }
 ],
 "metadata": {
  "kernelspec": {
   "display_name": "Python [conda env:test]",
   "language": "python",
   "name": "conda-env-test-py"
  },
  "language_info": {
   "codemirror_mode": {
    "name": "ipython",
    "version": 3
   },
   "file_extension": ".py",
   "mimetype": "text/x-python",
   "name": "python",
   "nbconvert_exporter": "python",
   "pygments_lexer": "ipython3",
   "version": "3.8.16"
  }
 },
 "nbformat": 4,
 "nbformat_minor": 1
}
