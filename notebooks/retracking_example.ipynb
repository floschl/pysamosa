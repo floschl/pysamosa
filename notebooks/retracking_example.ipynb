{
 "cells": [
  {
   "cell_type": "markdown",
   "metadata": {},
   "source": [
    "![]() <img src=\"https://github.com/floschl/pysamosa/blob/main/resources/logo_name.jpg?raw=true\"  width=\"500\">\n"
   ]
  },
  {
   "cell_type": "markdown",
   "metadata": {},
   "source": [
    "# PySAMOSA"
   ]
  },
  {
   "cell_type": "markdown",
   "metadata": {},
   "source": [
    "This jupyter notebook demonstrates exemplarily how to retrack a Level-1B (L1b) data file from the Sentinel-3 and Sentinel-6 MF missions."
   ]
  },
  {
   "cell_type": "markdown",
   "metadata": {},
   "source": [
    "## Getting-started"
   ]
  },
  {
   "cell_type": "markdown",
   "metadata": {},
   "source": [
    "Install pysamosa package from PyPI\n",
    "\n",
    ">    $ pip install pysamosa"
   ]
  },
  {
   "cell_type": "markdown",
   "metadata": {},
   "source": [
    "### Imports"
   ]
  },
  {
   "cell_type": "code",
   "execution_count": 1,
   "metadata": {
    "ExecuteTime": {
     "end_time": "2023-06-12T04:44:00.211643779Z",
     "start_time": "2023-06-12T04:44:00.158362164Z"
    }
   },
   "outputs": [],
   "source": [
    "%load_ext autoreload\n",
    "%autoreload 1"
   ]
  },
  {
   "cell_type": "code",
   "execution_count": 2,
   "metadata": {
    "ExecuteTime": {
     "end_time": "2023-06-12T04:44:00.277292330Z",
     "start_time": "2023-06-12T04:44:00.167650257Z"
    }
   },
   "outputs": [],
   "source": [
    "import logging\n",
    "from pathlib import Path\n",
    "\n",
    "import numpy as np\n",
    "import matplotlib as mpl\n",
    "\n",
    "import pysamosa\n",
    "from pysamosa.common_types import RetrackerBaseType, L1bSourceType\n",
    "from pysamosa.data_access import data_vars_s3, data_vars_s6\n",
    "from pysamosa.retracker_processor import RetrackerProcessor\n",
    "from pysamosa.settings_manager import get_default_base_settings, SettingsPreset\n",
    "from pysamosa.utils import plot_l2_results_vs_ref\n",
    "\n",
    "%aimport pysamosa"
   ]
  },
  {
   "cell_type": "markdown",
   "metadata": {},
   "source": [
    "### Choosing the L1b files to be retracked"
   ]
  },
  {
   "cell_type": "markdown",
   "metadata": {},
   "source": [
    "Select the files to be processed, here we choose only one:"
   ]
  },
  {
   "cell_type": "code",
   "execution_count": 3,
   "metadata": {
    "ExecuteTime": {
     "end_time": "2023-06-12T04:44:00.299013908Z",
     "start_time": "2023-06-12T04:44:00.176437257Z"
    }
   },
   "outputs": [],
   "source": [
    "l1b_files = []\n",
    "\n",
    "dest_path = Path.cwd().parent / '.testrun' / 'jupyter_getting_started'\n",
    "src_data_path = Path.cwd().parent / '.data'\n",
    "\n",
    "# S3\n",
    "# l1b_src_path = src_data_path / 's3' / 'l1b'\n",
    "# l1b_file_path = l1b_src_path / 'S3A_SR_1_SRA____20180414T050108_20180414T055136_20190706T231129_3028_030_090______MR1_R_NT_004.nc'\n",
    "# l2_ref_file = l1b_file_path.parent.parent / 'l2' / 'S3A_SR_1_SRA____20180414T050108_20180414T055136_20190706T231129_3028_030_090______MR1_R_NT_004.nc'\n",
    "# bbox = np.array([-13.32, -13.14, 0, 360])  #[lat_min, lat_max, lon_min, lon_max], set to None if full L1b file shall be retracked\n",
    "\n",
    "# S6\n",
    "l1b_src_path = src_data_path / 's6' / 'l1b'\n",
    "l1b_file_path = l1b_src_path / 'S6A_P4_1B_HR______20211120T051224_20211120T060836_20220430T212619_3372_038_018_009_EUM__REP_NT_F06.nc'\n",
    "l2_ref_file = l1b_file_path.parent.parent / 'l2' / 'S6A_P4_2__HR_STD__NT_038_018_20211120T051224_20211120T060836_F06.nc'\n",
    "bbox = np.array([-29.05, -29.00, 0, 360])  #[lat_min, lat_max, lon_min, lon_max], set to None if full L1b file shall be retracked\n",
    "\n",
    "l1b_files.append(l1b_file_path)\n",
    "\n",
    "is_s6 = 's6' in l1b_file_path.name.lower()"
   ]
  },
  {
   "cell_type": "markdown",
   "metadata": {},
   "source": [
    "### Choosing the Retracker\n",
    "\n",
    "Set the retracking settings used for the processing.\n",
    "\n",
    "One can choose between a different `RetrackerBaseType` + `SettingsPreset` combination to select different retracker presets. The respective individual settings are then returned from the `get_default_base_settings` function. The `L1bSourceType` needs to be selected according to the type of L1b data, e.g. `L1bSourceType.EUM_S6_F06` for Sentinel-6 MF baseline F06.\n",
    "\n",
    "Here are some sample retracker configuration:\n",
    "- Standard SAMOSA-based (SAMOSA2) retracker as used in [2]: RetrackerBaseType.SAM + SettingsPreset.NONE\n",
    "- SAMOSA+ [3]: RetrackerBaseType.SAMPLUS + SettingsPreset.NONE\n",
    "- CORALv2 (UF-SAR) [5]: RetrackerBaseType.SAM + SettingsPreset.CORALv2"
   ]
  },
  {
   "cell_type": "code",
   "execution_count": 4,
   "metadata": {
    "ExecuteTime": {
     "end_time": "2023-06-12T04:44:00.312271966Z",
     "start_time": "2023-06-12T04:44:00.180595868Z"
    }
   },
   "outputs": [],
   "source": [
    "l1b_src_type = L1bSourceType.EUM_S6_F06 if is_s6 else L1bSourceType.EUM_S3\n",
    "data_vars = data_vars_s6 if is_s6 else data_vars_s3\n",
    "\n",
    "# rbt = RetrackerBaseType.SAMPLUS\n",
    "rbt = RetrackerBaseType.SAM\n",
    "pres = SettingsPreset.CORALv2\n",
    "# pres = SettingsPreset.NONE\n",
    "rp_sets, retrack_sets, fitting_sets, wf_sets, sensor_sets = get_default_base_settings(retracker_basetype=rbt, settings_preset=pres, l1b_src_type=l1b_src_type)\n",
    "\n",
    "rp_sets.nc_dest_dir = dest_path\n",
    "rp_sets.n_offset = 0\n",
    "rp_sets.n_inds = 0  #0 means all\n",
    "rp_sets.n_procs = 6  #use 6 cores in parallel\n",
    "rp_sets.skip_if_exists = False"
   ]
  },
  {
   "cell_type": "markdown",
   "metadata": {},
   "source": [
    "Set additional attributes that are written to top-level of target netCDF file to be written out"
   ]
  },
  {
   "cell_type": "code",
   "execution_count": 5,
   "metadata": {
    "ExecuteTime": {
     "end_time": "2023-06-12T04:44:00.313204809Z",
     "start_time": "2023-06-12T04:44:00.191693204Z"
    }
   },
   "outputs": [],
   "source": [
    "additional_nc_attrs = {\n",
    "    'L1B source type': l1b_src_type.value.upper(),\n",
    "    'Retracker basetype': rbt.value.upper(),\n",
    "    'Retracker preset': pres.value.upper(),\n",
    "}"
   ]
  },
  {
   "cell_type": "markdown",
   "metadata": {},
   "source": [
    "Set up `RetrackerProcessor` object"
   ]
  },
  {
   "cell_type": "code",
   "execution_count": 6,
   "metadata": {
    "ExecuteTime": {
     "end_time": "2023-06-12T04:44:00.315274041Z",
     "start_time": "2023-06-12T04:44:00.197374289Z"
    }
   },
   "outputs": [
    {
     "data": {
      "text/plain": [
       "{'wf': 'power_waveform',\n",
       " 'time': 'time',\n",
       " 'lat_rad': 'latitude',\n",
       " 'lon_rad': 'longitude',\n",
       " 'alt_m': 'altitude',\n",
       " 'h_rate_m_per_s': 'altitude_rate',\n",
       " 'Vs_m_per_s': 'velocity_vector',\n",
       " 'ksix_rad': 'off_nadir_pitch_angle_pf',\n",
       " 'ksiy_rad': 'off_nadir_roll_angle_pf',\n",
       " 'beam_ang_stack_rad': 'look_angle_start',\n",
       " 'stack_mask_start_stop': 'stack_mask_start_stop',\n",
       " 'epoch_ref_gate': 'epoch_ref_gate_const',\n",
       " 'tracker_range_m': 'tracker_range_calibrated',\n",
       " 'pri_hz': 'pulse_repetition_interval'}"
      ]
     },
     "execution_count": 6,
     "metadata": {},
     "output_type": "execute_result"
    }
   ],
   "source": [
    "data_vars['l1b']"
   ]
  },
  {
   "cell_type": "code",
   "execution_count": 7,
   "metadata": {
    "ExecuteTime": {
     "end_time": "2023-06-12T04:44:00.315896077Z",
     "start_time": "2023-06-12T04:44:00.243423087Z"
    }
   },
   "outputs": [
    {
     "name": "stderr",
     "output_type": "stream",
     "text": [
      "2023-06-12 10:25:49,865 [MainThread  ] [INFO ]  Started retracking processing of 1 L1B files!(n_cores=6)\n",
      "L1B source type: EUM_S6_F06, Retracker basetype: SAM, Retracker preset: CORALV2 (to_start: 00:00:01, to_last: 00:00:00)\n"
     ]
    }
   ],
   "source": [
    "rp = RetrackerProcessor(l1b_source=l1b_files, l1b_data_vars=data_vars['l1b'],\n",
    "                        rp_sets=rp_sets,\n",
    "                        retrack_sets=retrack_sets,\n",
    "                        fitting_sets=fitting_sets,\n",
    "                        wf_sets=wf_sets,\n",
    "                        sensor_sets=sensor_sets,\n",
    "                        nc_attrs_kw=additional_nc_attrs,\n",
    "                        bbox=[bbox],\n",
    "                        log_level=logging.DEBUG,  #comment in to show debug messages\n",
    "                        )"
   ]
  },
  {
   "cell_type": "markdown",
   "metadata": {},
   "source": [
    "Start processing"
   ]
  },
  {
   "cell_type": "code",
   "execution_count": 8,
   "metadata": {
    "ExecuteTime": {
     "end_time": "2023-06-12T04:44:13.893297032Z",
     "start_time": "2023-06-12T04:44:00.243659529Z"
    }
   },
   "outputs": [
    {
     "name": "stderr",
     "output_type": "stream",
     "text": [
      "2023-06-12 10:25:49,870 [MainThread  ] [INFO ]  Reading of L1B dataset S6A_P4_1B_HR______20211120T051224_20211120T060836_20220430T212619_3372_038_018_009_EUM__REP_NT_F06...  (to_start: 00:00:01, to_last: 00:00:00)\n"
     ]
    },
    {
     "ename": "FileNotFoundError",
     "evalue": "[Errno 2] No such file or directory: '/lfs/DGFI24/fastdata/schlembach/repos/pysamosa/.data/s6/l1b/S6A_P4_1B_HR______20211120T051224_20211120T060836_20220430T212619_3372_038_018_009_EUM__REP_NT_F06.nc'",
     "output_type": "error",
     "traceback": [
      "\u001B[0;31m---------------------------------------------------------------------------\u001B[0m",
      "\u001B[0;31mFileNotFoundError\u001B[0m                         Traceback (most recent call last)",
      "Cell \u001B[0;32mIn[8], line 1\u001B[0m\n\u001B[0;32m----> 1\u001B[0m \u001B[43mrp\u001B[49m\u001B[38;5;241;43m.\u001B[39;49m\u001B[43mprocess\u001B[49m\u001B[43m(\u001B[49m\u001B[43m)\u001B[49m\n",
      "File \u001B[0;32m~/miniconda3/envs/test/lib/python3.8/site-packages/pysamosa/retracker_processor.py:333\u001B[0m, in \u001B[0;36mRetrackerProcessor.process\u001B[0;34m(self)\u001B[0m\n\u001B[1;32m    327\u001B[0m     file_logger_handle \u001B[38;5;241m=\u001B[39m simple_logger\u001B[38;5;241m.\u001B[39mgenerate_and_add_file_logger(\n\u001B[1;32m    328\u001B[0m         log_filename\n\u001B[1;32m    329\u001B[0m     )\n\u001B[1;32m    331\u001B[0m logging\u001B[38;5;241m.\u001B[39minfo(\u001B[38;5;124mf\u001B[39m\u001B[38;5;124m\"\u001B[39m\u001B[38;5;124mReading of L1B dataset \u001B[39m\u001B[38;5;132;01m{\u001B[39;00mnc_base_id\u001B[38;5;132;01m}\u001B[39;00m\u001B[38;5;124m... \u001B[39m\u001B[38;5;124m\"\u001B[39m)\n\u001B[1;32m    332\u001B[0m grps \u001B[38;5;241m=\u001B[39m [\n\u001B[0;32m--> 333\u001B[0m     g \u001B[38;5;28;01mfor\u001B[39;00m g \u001B[38;5;129;01min\u001B[39;00m \u001B[38;5;28mlist\u001B[39m(\u001B[43mnetCDF4\u001B[49m\u001B[38;5;241;43m.\u001B[39;49m\u001B[43mDataset\u001B[49m\u001B[43m(\u001B[49m\u001B[43mnc_src_file\u001B[49m\u001B[43m)\u001B[49m\u001B[38;5;241m.\u001B[39mgroups) \u001B[38;5;28;01mif\u001B[39;00m \u001B[38;5;124m\"\u001B[39m\u001B[38;5;124mdata\u001B[39m\u001B[38;5;124m\"\u001B[39m \u001B[38;5;129;01min\u001B[39;00m g\n\u001B[1;32m    334\u001B[0m ]\n\u001B[1;32m    335\u001B[0m nc_grp \u001B[38;5;241m=\u001B[39m \u001B[38;5;124mf\u001B[39m\u001B[38;5;124m\"\u001B[39m\u001B[38;5;132;01m{\u001B[39;00mgrps[\u001B[38;5;241m0\u001B[39m]\u001B[38;5;132;01m}\u001B[39;00m\u001B[38;5;124m/ku\u001B[39m\u001B[38;5;124m\"\u001B[39m \u001B[38;5;28;01mif\u001B[39;00m grps \u001B[38;5;28;01melse\u001B[39;00m \u001B[38;5;124m\"\u001B[39m\u001B[38;5;124m\"\u001B[39m\n\u001B[1;32m    337\u001B[0m \u001B[38;5;66;03m# if bbox is not None replace n_offset and n_inds by bbox logic\u001B[39;00m\n",
      "File \u001B[0;32msrc/netCDF4/_netCDF4.pyx:2464\u001B[0m, in \u001B[0;36mnetCDF4._netCDF4.Dataset.__init__\u001B[0;34m()\u001B[0m\n",
      "File \u001B[0;32msrc/netCDF4/_netCDF4.pyx:2027\u001B[0m, in \u001B[0;36mnetCDF4._netCDF4._ensure_nc_success\u001B[0;34m()\u001B[0m\n",
      "\u001B[0;31mFileNotFoundError\u001B[0m: [Errno 2] No such file or directory: '/lfs/DGFI24/fastdata/schlembach/repos/pysamosa/.data/s6/l1b/S6A_P4_1B_HR______20211120T051224_20211120T060836_20220430T212619_3372_038_018_009_EUM__REP_NT_F06.nc'"
     ]
    }
   ],
   "source": [
    "rp.process()"
   ]
  },
  {
   "cell_type": "markdown",
   "metadata": {},
   "source": [
    "The output netCDF file is written to directory:"
   ]
  },
  {
   "cell_type": "code",
   "execution_count": null,
   "metadata": {
    "ExecuteTime": {
     "end_time": "2023-06-12T04:44:13.919676597Z",
     "start_time": "2023-06-12T04:44:13.893894715Z"
    }
   },
   "outputs": [],
   "source": [
    "rp_sets.nc_dest_dir"
   ]
  },
  {
   "cell_type": "markdown",
   "metadata": {},
   "source": [
    "Show xarray dataset"
   ]
  },
  {
   "cell_type": "code",
   "execution_count": null,
   "metadata": {
    "ExecuteTime": {
     "end_time": "2023-06-12T04:44:13.934528923Z",
     "start_time": "2023-06-12T04:44:13.898336893Z"
    }
   },
   "outputs": [],
   "source": [
    "rp.output_l2"
   ]
  },
  {
   "cell_type": "markdown",
   "metadata": {},
   "source": [
    "Read L2 reference file"
   ]
  },
  {
   "cell_type": "code",
   "execution_count": null,
   "metadata": {
    "ExecuteTime": {
     "end_time": "2023-06-12T04:44:14.016590226Z",
     "start_time": "2023-06-12T04:44:13.925477415Z"
    }
   },
   "outputs": [],
   "source": [
    "from pysamosa.data_access import _read_dataset_vars_from_ds\n",
    "\n",
    "nc_grp = 'data_20/ku' if is_s6 else ''\n",
    "l2_ref = _read_dataset_vars_from_ds(nc_filename=l2_ref_file, data_var_names=data_vars['l2'], n_offset=int(rp.output_l2.record_ind[0].values),\n",
    "                                      n_inds=len(rp.output_l2.record_ind), group=nc_grp)"
   ]
  },
  {
   "cell_type": "code",
   "execution_count": null,
   "metadata": {
    "ExecuteTime": {
     "end_time": "2023-06-12T04:44:14.390713910Z",
     "start_time": "2023-06-12T04:44:14.018129564Z"
    }
   },
   "outputs": [],
   "source": [
    "# add center-of-gravity (COG) correction to S3 L2 range data\n",
    "cog_corr = 0.55590 if not is_s6 else 0.0\n",
    "\n",
    "fig,rmse_swh,rmse_ssh = plot_l2_results_vs_ref(rp.output_l2,\n",
    "                                               l2_ref=l2_ref,\n",
    "                                               fig_title=l1b_file_path.stem,\n",
    "                                               cog_corr=cog_corr,\n",
    "                                               )"
   ]
  },
  {
   "cell_type": "code",
   "execution_count": null,
   "metadata": {
    "ExecuteTime": {
     "end_time": "2023-06-12T04:44:14.394131473Z",
     "start_time": "2023-06-12T04:44:14.390909867Z"
    }
   },
   "outputs": [],
   "source": [
    "print(f'rmse_swh: {rmse_swh:.4f}, rmse_ssh: {rmse_ssh:.4f}')"
   ]
  },
  {
   "cell_type": "code",
   "execution_count": null,
   "metadata": {
    "ExecuteTime": {
     "end_time": "2023-06-12T04:44:14.472822291Z",
     "start_time": "2023-06-12T04:44:14.394608647Z"
    }
   },
   "outputs": [],
   "source": [
    "fig.savefig(dest_path / f'{\"S6\" if is_s6 else \"S3\"}_comparison_w_baseline.jpg')"
   ]
  },
  {
   "cell_type": "markdown",
   "metadata": {},
   "source": [
    "## References\n",
    "\n",
    "[1] SAMOSA Detailed Processing Model: Christine Gommenginger, Cristina Martin-Puig, Meric Srokosz, Marco Caparrini, Salvatore Dinardo, Bruno Lucas, Marco Restano, Américo, Ambrózio and Jérôme Benveniste, Detailed Processing Model of the Sentinel-3 SRAL SAR altimeter ocean waveform retracker, Version 2.5.2, 31 October 2017, Under ESA-ESRIN Contract No. 20698/07/I-LG (SAMOSA), Restricted access as defined in the Contract,  Jérôme Benveniste (Jerome.Benvensite@esa.int) pers. comm.\n",
    "\n",
    "[2] EUMETSAT. Sentinel-6/Jason-CS ALT Level 2 Product Generation Specification (L2 ALT PGS), Version V4D; 2022.\n",
    "https://www.eumetsat.int/media/48266.\n",
    "\n",
    "[3] Dinardo, Salvatore. ‘Techniques and Applications for Satellite SAR Altimetry over Water, Land and Ice’.\n",
    "Dissertation, Technische Universität, 2020. https://tuprints.ulb.tu-darmstadt.de/11343/.\n",
    "\n",
    "[4] Schlembach, F.; Passaro, M.; Dettmering, D.; Bidlot, J.; Seitz, F. Interference-Sensitive Coastal SAR Altimetry\n",
    "Retracking Strategy for Measuring Significant Wave Height. Remote Sensing of Environment 2022, 274, 112968. https://doi.org/10.1016/j.rse.2022.112968.\n",
    "\n",
    "[5] Schlembach, F.; Ehlers, F.; Kleinherenbrink, M.; Passaro, M.; Dettmering, D.; Seitz, F.; Slobbe, C. Benefits of Fully Focused SAR Altimetry to Coastal Wave Height Estimates: A Case Study in the North Sea. Remote Sensing of Environment 2023, 289, 113517. https://doi.org/10.1016/j.rse.2023.113517.\n",
    "\n"
   ]
  }
 ],
 "metadata": {
  "kernelspec": {
   "display_name": "Python [conda env:test]",
   "language": "python",
   "name": "conda-env-test-py"
  },
  "language_info": {
   "codemirror_mode": {
    "name": "ipython",
    "version": 3
   },
   "file_extension": ".py",
   "mimetype": "text/x-python",
   "name": "python",
   "nbconvert_exporter": "python",
   "pygments_lexer": "ipython3",
   "version": "3.8.16"
  }
 },
 "nbformat": 4,
 "nbformat_minor": 1
}
