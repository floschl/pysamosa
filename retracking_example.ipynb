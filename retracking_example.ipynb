{
 "cells": [
  {
   "cell_type": "markdown",
   "source": [
    "![]() <img src=\"./resources/logo.jpg\"  width=\"500\">\n"
   ],
   "metadata": {
    "collapsed": false
   }
  },
  {
   "cell_type": "markdown",
   "source": [
    "# PySAMOSA"
   ],
   "metadata": {
    "collapsed": false
   }
  },
  {
   "cell_type": "markdown",
   "source": [
    "This jupyter notebook demonstrates exemplarily how to retrack a Level-1B (L1b) data file from the Sentinel-3 and Sentinel-6 MF missions."
   ],
   "metadata": {
    "collapsed": false
   }
  },
  {
   "cell_type": "markdown",
   "source": [
    "## Getting-started"
   ],
   "metadata": {
    "collapsed": false
   }
  },
  {
   "cell_type": "markdown",
   "source": [
    "### Imports"
   ],
   "metadata": {
    "collapsed": false
   }
  },
  {
   "cell_type": "code",
   "execution_count": 73,
   "outputs": [
    {
     "name": "stdout",
     "output_type": "stream",
     "text": [
      "The autoreload extension is already loaded. To reload it, use:\n",
      "  %reload_ext autoreload\n"
     ]
    }
   ],
   "source": [
    "%load_ext autoreload\n",
    "%autoreload 1"
   ],
   "metadata": {
    "collapsed": false,
    "ExecuteTime": {
     "end_time": "2023-06-06T09:56:46.732066618Z",
     "start_time": "2023-06-06T09:56:46.657229270Z"
    }
   }
  },
  {
   "cell_type": "code",
   "execution_count": 74,
   "outputs": [],
   "source": [
    "import logging\n",
    "from pathlib import Path\n",
    "\n",
    "import numpy as np\n",
    "import matplotlib as mpl\n",
    "\n",
    "from pysamosa.common_types import RetrackerBaseType, L1bSourceType\n",
    "from pysamosa.data_access import data_vars_s3, data_vars_s6\n",
    "from pysamosa.retracker_processor import RetrackerProcessor\n",
    "from pysamosa.settings_manager import get_default_base_settings, SettingsPreset\n",
    "from pysamosa.utils_plot import plot_l2_results_vs_ref\n",
    "\n",
    "%aimport pysamosa.retracker_processor, pysamosa.utils_plot"
   ],
   "metadata": {
    "collapsed": false,
    "ExecuteTime": {
     "end_time": "2023-06-06T09:56:46.733090777Z",
     "start_time": "2023-06-06T09:56:46.663151903Z"
    }
   }
  },
  {
   "cell_type": "markdown",
   "source": [
    "### Choosing the L1b files to be retracked"
   ],
   "metadata": {
    "collapsed": false
   }
  },
  {
   "cell_type": "markdown",
   "source": [
    "Select the files to be processed, here we choose only one:"
   ],
   "metadata": {
    "collapsed": false
   }
  },
  {
   "cell_type": "code",
   "execution_count": 76,
   "outputs": [],
   "source": [
    "l1b_files = []\n",
    "\n",
    "dest_path = Path.cwd() / '.testrun' / 'jupyter_getting_started'\n",
    "src_data_path = Path.cwd() / '.data'\n",
    "\n",
    "# S3\n",
    "# l1b_src_path = src_data_path / 's3' / 'l1b'\n",
    "# l1b_file_path = l1b_src_path / 'S3A_SR_1_SRA____20180414T050108_20180414T055136_20190706T231129_3028_030_090______MR1_R_NT_004.nc'\n",
    "# l2_ref_file = l1b_file_path.parent.parent / 'l2' / 'S3A_SR_1_SRA____20180414T050108_20180414T055136_20190706T231129_3028_030_090______MR1_R_NT_004.nc'\n",
    "# bbox = np.array([-13.32, -13.14, 0, 360])  #[lat_min, lat_max, lon_min, lon_max], set to None if full L1b file shall be retracked\n",
    "\n",
    "# S6\n",
    "l1b_src_path = src_data_path / 's6' / 'l1b'\n",
    "l1b_file_path = l1b_src_path / 'S6A_P4_1B_HR______20211120T051224_20211120T060836_20220430T212619_3372_038_018_009_EUM__REP_NT_F06.nc'\n",
    "l2_ref_file = l1b_file_path.parent.parent / 'l2' / 'S6A_P4_2__HR_STD__NT_038_018_20211120T051224_20211120T060836_F06.nc'\n",
    "bbox = np.array([-29.05, -29.00, 0, 360])  #[lat_min, lat_max, lon_min, lon_max], set to None if full L1b file shall be retracked\n",
    "\n",
    "l1b_files.append(l1b_file_path)\n",
    "\n",
    "is_s6 = 's6' in l1b_file_path.name.lower()"
   ],
   "metadata": {
    "collapsed": false
   }
  },
  {
   "cell_type": "markdown",
   "source": [
    "### Choosing the Retracker\n",
    "\n",
    "Set the retracking settings used for the processing.\n",
    "\n",
    "One can choose between a different `RetrackerBaseType` + `SettingsPreset` combination to select different retracker presets. The respective individual settings are then returned from the `get_default_base_settings` function. The `L1bSourceType` needs to be selected according to the type of L1b data, e.g. `L1bSourceType.EUM_S6_F06` for Sentinel-6 MF baseline F06.\n",
    "\n",
    "Here are some sample retracker configuration:\n",
    "- Standard SAMOSA-based (SAMOSA2) retracker as used in [2]: RetrackerBaseType.SAM + SettingsPreset.NONE\n",
    "- SAMOSA+ [3]: RetrackerBaseType.SAMPLUS + SettingsPreset.NONE\n",
    "- CORALv2 (UF-SAR) [5]: RetrackerBaseType.SAM + SettingsPreset.CORALv2"
   ],
   "metadata": {
    "collapsed": false
   }
  },
  {
   "cell_type": "code",
   "execution_count": 77,
   "outputs": [],
   "source": [
    "l1b_src_type = L1bSourceType.EUM_S6_F06 if is_s6 else L1bSourceType.EUM_S3\n",
    "data_vars = data_vars_s6 if is_s6 else data_vars_s3\n",
    "\n",
    "# rbt = RetrackerBaseType.SAMPLUS\n",
    "rbt = RetrackerBaseType.SAM\n",
    "pres = SettingsPreset.CORALv2\n",
    "# pres = SettingsPreset.NONE\n",
    "rp_sets, retrack_sets, fitting_sets, wf_sets, sensor_sets = get_default_base_settings(retracker_basetype=rbt, settings_preset=pres, l1b_src_type=l1b_src_type)\n",
    "\n",
    "rp_sets.nc_dest_dir = dest_path\n",
    "rp_sets.n_offset = 0\n",
    "rp_sets.n_inds = 0  #0 means all\n",
    "rp_sets.n_procs = 6\n",
    "rp_sets.skip_if_exists = False"
   ],
   "metadata": {
    "collapsed": false
   }
  },
  {
   "cell_type": "markdown",
   "source": [
    "Set additional attributes that are written to top-level of target netCDF file to be written out"
   ],
   "metadata": {
    "collapsed": false
   }
  },
  {
   "cell_type": "code",
   "execution_count": 78,
   "outputs": [],
   "source": [
    "additional_nc_attrs = {\n",
    "    'L1B source type': l1b_src_type.value.upper(),\n",
    "    'Retracker basetype': rbt.value.upper(),\n",
    "    'Retracker preset': pres.value.upper(),\n",
    "}"
   ],
   "metadata": {
    "collapsed": false
   }
  },
  {
   "cell_type": "markdown",
   "source": [
    "Set up `RetrackerProcessor` object"
   ],
   "metadata": {
    "collapsed": false
   }
  },
  {
   "cell_type": "code",
   "execution_count": 79,
   "outputs": [],
   "source": [
    "rp = RetrackerProcessor(l1b_source=l1b_files, l1b_data_vars=data_vars['l1b'],\n",
    "                        rp_sets=rp_sets,\n",
    "                        retrack_sets=retrack_sets,\n",
    "                        fitting_sets=fitting_sets,\n",
    "                        wf_sets=wf_sets,\n",
    "                        sensor_sets=sensor_sets,\n",
    "                        nc_attrs_kw=additional_nc_attrs,\n",
    "                        bbox=[bbox],\n",
    "                        log_level=logging.DEBUG,  #comment in to show debug messages\n",
    "                        )"
   ],
   "metadata": {
    "collapsed": false
   }
  },
  {
   "cell_type": "markdown",
   "source": [
    "Start processing"
   ],
   "metadata": {
    "collapsed": false
   }
  },
  {
   "cell_type": "code",
   "execution_count": 80,
   "outputs": [],
   "source": [
    "rp.process()"
   ],
   "metadata": {
    "collapsed": false
   }
  },
  {
   "cell_type": "markdown",
   "source": [
    "The output netCDF file is written to directory:"
   ],
   "metadata": {
    "collapsed": false
   }
  },
  {
   "cell_type": "code",
   "execution_count": 81,
   "outputs": [],
   "source": [
    "rp_sets.nc_dest_dir"
   ],
   "metadata": {
    "collapsed": false
   }
  },
  {
   "cell_type": "markdown",
   "source": [
    "Show xarray dataset"
   ],
   "metadata": {
    "collapsed": false
   }
  },
  {
   "cell_type": "code",
   "execution_count": 82,
   "outputs": [],
   "source": [
    "rp.output_l2"
   ],
   "metadata": {
    "collapsed": false
   }
  },
  {
   "cell_type": "markdown",
   "source": [
    "Read L2 reference file"
   ],
   "metadata": {
    "collapsed": false
   }
  },
  {
   "cell_type": "code",
   "execution_count": 83,
   "outputs": [],
   "source": [
    "from pysamosa.data_access import _read_dataset_vars_from_ds\n",
    "\n",
    "nc_grp = 'data_20/ku' if is_s6 else ''\n",
    "l2_ref = _read_dataset_vars_from_ds(nc_filename=l2_ref_file, data_var_names=data_vars['l2'], n_offset=int(rp.output_l2.record_ind[0].values),\n",
    "                                      n_inds=len(rp.output_l2.record_ind), group=nc_grp)"
   ],
   "metadata": {
    "collapsed": false
   }
  },
  {
   "cell_type": "code",
   "execution_count": 84,
   "outputs": [],
   "source": [
    "# add center-of-gravity (COG) correction to S3 L2 range data\n",
    "cog_corr = 0.55590 if not is_s6 else 0.0\n",
    "\n",
    "fig,rmse_swh,rmse_ssh = plot_l2_results_vs_ref(rp.output_l2,\n",
    "                                               l2_ref=l2_ref,\n",
    "                                               fig_title=l1b_file_path.stem,\n",
    "                                               cog_corr=cog_corr,\n",
    "                                               )"
   ],
   "metadata": {
    "collapsed": false
   }
  },
  {
   "cell_type": "code",
   "execution_count": 85,
   "outputs": [],
   "source": [
    "print(f'rmse_swh: {rmse_swh:.4f}, rmse_ssh: {rmse_ssh:.4f}')"
   ],
   "metadata": {
    "collapsed": false
   }
  },
  {
   "cell_type": "code",
   "execution_count": 86,
   "outputs": [],
   "source": [
    "fig.savefig(dest_path / f'{\"S6\" if is_s6 else \"S3\"}_comparison_w_baseline.jpg')"
   ],
   "metadata": {
    "collapsed": false
   }
  },
  {
   "cell_type": "markdown",
   "source": [
    "## References\n",
    "\n",
    "[1] SAMOSA Detailed Processing Model: Christine Gommenginger, Cristina Martin-Puig, Meric Srokosz, Marco Caparrini, Salvatore Dinardo, Bruno Lucas, Marco Restano, Américo, Ambrózio and Jérôme Benveniste, Detailed Processing Model of the Sentinel-3 SRAL SAR altimeter ocean waveform retracker, Version 2.5.2, 31 October 2017, Under ESA-ESRIN Contract No. 20698/07/I-LG (SAMOSA), Restricted access as defined in the Contract,  Jérôme Benveniste (Jerome.Benvensite@esa.int) pers. comm.\n",
    "\n",
    "[2] EUMETSAT. Sentinel-6/Jason-CS ALT Level 2 Product Generation Specification (L2 ALT PGS), Version V4D; 2022.\n",
    "https://www.eumetsat.int/media/48266.\n",
    "\n",
    "[3] Dinardo, Salvatore. ‘Techniques and Applications for Satellite SAR Altimetry over Water, Land and Ice’.\n",
    "Dissertation, Technische Universität, 2020. https://tuprints.ulb.tu-darmstadt.de/11343/.\n",
    "\n",
    "[4] Schlembach, F.; Passaro, M.; Dettmering, D.; Bidlot, J.; Seitz, F. Interference-Sensitive Coastal SAR Altimetry\n",
    "Retracking Strategy for Measuring Significant Wave Height. Remote Sensing of Environment 2022, 274, 112968. https://doi.org/10.1016/j.rse.2022.112968.\n",
    "\n",
    "[5] Schlembach, F.; Ehlers, F.; Kleinherenbrink, M.; Passaro, M.; Dettmering, D.; Seitz, F.; Slobbe, C. Benefits of Fully Focused SAR Altimetry to Coastal Wave Height Estimates: A Case Study in the North Sea. Remote Sensing of Environment 2023, 289, 113517. https://doi.org/10.1016/j.rse.2023.113517.\n",
    "\n"
   ],
   "metadata": {
    "collapsed": false
   }
  }
 ],
 "metadata": {
  "kernelspec": {
   "display_name": "Python 3",
   "language": "python",
   "name": "python3"
  },
  "language_info": {
   "codemirror_mode": {
    "name": "ipython",
    "version": 2
   },
   "file_extension": ".py",
   "mimetype": "text/x-python",
   "name": "python",
   "nbconvert_exporter": "python",
   "pygments_lexer": "ipython2",
   "version": "2.7.6"
  }
 },
 "nbformat": 4,
 "nbformat_minor": 0
}
